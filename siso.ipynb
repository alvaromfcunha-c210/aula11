{
 "cells": [
  {
   "attachments": {},
   "cell_type": "markdown",
   "metadata": {},
   "source": [
    "# Sistema Fuzzy - Single Input Single Output (SISO)"
   ]
  },
  {
   "attachments": {},
   "cell_type": "markdown",
   "metadata": {},
   "source": [
    "![1](imagens/1.png)"
   ]
  },
  {
   "cell_type": "code",
   "execution_count": null,
   "metadata": {},
   "outputs": [],
   "source": [
    "#!pip install scikit-fuzzy\n",
    "\n",
    "import numpy as np\n",
    "import skfuzzy as fuzzy\n",
    "import skfuzzy.control as control"
   ]
  },
  {
   "attachments": {},
   "cell_type": "markdown",
   "metadata": {},
   "source": [
    "### Modelando antecedente:"
   ]
  },
  {
   "cell_type": "code",
   "execution_count": null,
   "metadata": {},
   "outputs": [],
   "source": [
    "universo = np.arange(0, 9001)\n",
    "\n",
    "salario = control.Antecedent(universe = universo, label = \"salario\")\n",
    "\n",
    "salario[\"muito_baixo\"] = fuzzy.trapmf(salario.universe, [0, 0, 500, 2000])\n",
    "salario[\"baixo\"] = fuzzy.trimf(salario.universe, [500, 2000, 4000])\n",
    "salario[\"medio\"] = fuzzy.trimf(salario.universe, [2000, 4000, 6000])\n",
    "salario[\"alto\"] = fuzzy.trimf(salario.universe, [4000, 6000, 8000])\n",
    "salario[\"muito_alto\"] = fuzzy.trapmf(salario.universe, [6000, 8000, 9000, 9000])\n",
    "\n",
    "salario.view()"
   ]
  },
  {
   "attachments": {},
   "cell_type": "markdown",
   "metadata": {},
   "source": [
    "### Modelando consequente:"
   ]
  },
  {
   "cell_type": "code",
   "execution_count": null,
   "metadata": {},
   "outputs": [],
   "source": [
    "universo_imposto = np.arange(0, 801)\n",
    "\n",
    "imposto = control.Consequent(universe = universo_imposto, label = \"imposto\")\n",
    "\n",
    "imposto[\"muito_baixo\"] = fuzzy.trapmf(imposto.universe, [0, 0, 100, 200])\n",
    "imposto[\"baixo\"] = fuzzy.trimf(imposto.universe, [100, 200, 300])\n",
    "imposto[\"medio\"] = fuzzy.trimf(imposto.universe, [200, 300, 400])\n",
    "imposto[\"alto\"] = fuzzy.trimf(imposto.universe, [300, 400, 500])\n",
    "imposto[\"muito_alto\"] = fuzzy.trapmf(imposto.universe, [400, 600, 800, 800])\n",
    "\n",
    "imposto.view()"
   ]
  },
  {
   "attachments": {},
   "cell_type": "markdown",
   "metadata": {},
   "source": [
    "### Modelando regras de inferência:"
   ]
  },
  {
   "cell_type": "code",
   "execution_count": null,
   "metadata": {},
   "outputs": [],
   "source": [
    "regra1 = control.Rule(salario[\"muito_baixo\"], imposto[\"muito_baixo\"])\n",
    "regra2 = control.Rule(salario[\"baixo\"], imposto[\"baixo\"])\n",
    "regra3 = control.Rule(salario[\"medio\"], imposto[\"medio\"])\n",
    "regra4 = control.Rule(salario[\"alto\"], imposto[\"alto\"])\n",
    "regra5 = control.Rule(salario[\"muito_alto\"], imposto[\"muito_alto\"])\n",
    "\n",
    "imposto_controle = control.ControlSystem([regra1, regra2, regra3, regra4, regra5])"
   ]
  },
  {
   "attachments": {},
   "cell_type": "markdown",
   "metadata": {},
   "source": [
    "### Simulação do sistema:"
   ]
  },
  {
   "cell_type": "code",
   "execution_count": null,
   "metadata": {},
   "outputs": [],
   "source": [
    "sistema = control.ControlSystemSimulation(imposto_controle)\n",
    "\n",
    "sistema.input[\"salario\"] = 5210\n",
    "\n",
    "sistema.compute()\n",
    "\n",
    "print(f\"Resultado 'desfuzzificado': {sistema.output['imposto']}\")\n",
    "\n",
    "imposto.view(sim = sistema)"
   ]
  }
 ],
 "metadata": {
  "language_info": {
   "name": "python"
  },
  "orig_nbformat": 4
 },
 "nbformat": 4,
 "nbformat_minor": 2
}
