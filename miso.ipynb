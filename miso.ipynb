{
 "cells": [
  {
   "attachments": {},
   "cell_type": "markdown",
   "metadata": {},
   "source": [
    "# Sistema Fuzzy - Multiple Inputs Single Output (MISO)"
   ]
  },
  {
   "attachments": {},
   "cell_type": "markdown",
   "metadata": {},
   "source": [
    "Modelar o seguinte problema usando o modelo de Mamdani:\n",
    "\n",
    "![4](imagens/4.png)\n",
    "\n",
    "Regras de inferência:\n",
    "\n",
    "![5](imagens/5.png)"
   ]
  },
  {
   "attachments": {},
   "cell_type": "markdown",
   "metadata": {},
   "source": [
    "### Modelo de Mamdani:\n",
    "\n",
    "Representação do modelo baseado no problema da aula 10:\n",
    "\n",
    "![2](imagens/2.png)\n",
    "\n",
    "Representação do modelo baseado no problema apresentado acima:\n",
    "\n",
    "![3](imagens/3.png)"
   ]
  },
  {
   "attachments": {},
   "cell_type": "markdown",
   "metadata": {},
   "source": [
    "### Importações:"
   ]
  },
  {
   "cell_type": "code",
   "execution_count": null,
   "metadata": {},
   "outputs": [],
   "source": [
    "#!pip install scikit-fuzzy\n",
    "\n",
    "import numpy as np\n",
    "import skfuzzy as fuzzy\n",
    "import skfuzzy.control as control"
   ]
  },
  {
   "attachments": {},
   "cell_type": "markdown",
   "metadata": {},
   "source": [
    "### Modelando antecedente:"
   ]
  },
  {
   "cell_type": "code",
   "execution_count": null,
   "metadata": {},
   "outputs": [],
   "source": [
    "universo_velociade = np.arange(0, 181)\n",
    "velociade = control.Antecedent(universe = universo_velociade, label = \"velocidade\")\n",
    "\n",
    "velociade[\"muito_baixa\"] = fuzzy.trapmf(velociade.universe, [0, 0, 30, 60])\n",
    "velociade[\"baixa\"] = fuzzy.trimf(velociade.universe, [30, 60, 90])\n",
    "velociade[\"media\"] = fuzzy.trimf(velociade.universe, [60, 90, 120])\n",
    "velociade[\"alta\"] = fuzzy.trimf(velociade.universe, [90, 120, 150])\n",
    "velociade[\"muito_alta\"] = fuzzy.trapmf(velociade.universe, [120, 150, 180, 180])\n",
    "\n",
    "universo_massa = np.arange(0, 2.5, 0.1)\n",
    "massa = control.Antecedent(universe = universo_massa, label = \"massa\")\n",
    "\n",
    "massa[\"muito_pequena\"] = fuzzy.trapmf(massa.universe, [0, 0, .4, .8])\n",
    "massa[\"pequena\"] = fuzzy.trimf(massa.universe, [.4, .8, 1.2])\n",
    "massa[\"media\"] = fuzzy.trimf(massa.universe, [.8, 1.2, 1.6])\n",
    "massa[\"grande\"] = fuzzy.trimf(massa.universe, [1.2, 1.6, 2.0])\n",
    "massa[\"muito_grande\"] = fuzzy.trapmf(massa.universe, [1.6, 2.0, 2.4, 2.4])\n",
    "\n",
    "velociade.view()\n",
    "massa.view()"
   ]
  },
  {
   "attachments": {},
   "cell_type": "markdown",
   "metadata": {},
   "source": [
    "### Modelando consequente:"
   ]
  },
  {
   "cell_type": "code",
   "execution_count": null,
   "metadata": {},
   "outputs": [],
   "source": [
    "universo_pressao = np.arange(0, 1.1, .25)\n",
    "\n",
    "pressao = control.Consequent(universe = universo_pressao, label = \"pressao\")\n",
    "\n",
    "pressao[\"minima\"] = fuzzy.trapmf(pressao.universe, [0, 0, .25, .25])\n",
    "pressao[\"media\"] = fuzzy.trimf(pressao.universe, [.25, .5, .75])\n",
    "pressao[\"elevada\"] = fuzzy.trapmf(pressao.universe, [.5, .75, 1, 1])\n",
    "\n",
    "pressao.view()"
   ]
  },
  {
   "attachments": {},
   "cell_type": "markdown",
   "metadata": {},
   "source": [
    "### Modelando regras de inferência:"
   ]
  },
  {
   "cell_type": "code",
   "execution_count": null,
   "metadata": {},
   "outputs": [],
   "source": [
    "regras = [\n",
    "  control.Rule(velociade[\"muito_baixa\"] & massa[\"muito_pequena\"], pressao[\"minima\"]),\n",
    "  control.Rule(velociade[\"muito_baixa\"] & massa[\"pequena\"], pressao[\"minima\"]),\n",
    "  control.Rule(velociade[\"muito_baixa\"] & massa[\"media\"], pressao[\"minima\"]),\n",
    "  control.Rule(velociade[\"baixa\"] & massa[\"muito_pequena\"], pressao[\"minima\"]),\n",
    "  control.Rule(velociade[\"baixa\"] & massa[\"pequena\"], pressao[\"minima\"]),\n",
    "  control.Rule(velociade[\"baixa\"] & massa[\"media\"], pressao[\"minima\"]),\n",
    "  control.Rule(velociade[\"media\"] & massa[\"muito_pequena\"], pressao[\"minima\"]),\n",
    "  control.Rule(velociade[\"media\"] & massa[\"pequena\"], pressao[\"minima\"]),\n",
    "\n",
    "  control.Rule(velociade[\"muito_baixa\"] & massa[\"grande\"], pressao[\"media\"]),\n",
    "  control.Rule(velociade[\"muito_baixa\"] & massa[\"muito_grande\"], pressao[\"media\"]),\n",
    "  control.Rule(velociade[\"baixa\"] & massa[\"grande\"], pressao[\"media\"]),\n",
    "  control.Rule(velociade[\"baixa\"] & massa[\"muito_grande\"], pressao[\"media\"]),\n",
    "  control.Rule(velociade[\"media\"] & massa[\"media\"], pressao[\"media\"]),\n",
    "  control.Rule(velociade[\"alta\"] & massa[\"muito_pequena\"], pressao[\"media\"]),\n",
    "  control.Rule(velociade[\"alta\"] & massa[\"pequena\"], pressao[\"media\"]),\n",
    "  control.Rule(velociade[\"alta\"] & massa[\"media\"], pressao[\"media\"]),\n",
    "  control.Rule(velociade[\"muito_alta\"] & massa[\"muito_pequena\"], pressao[\"media\"]),\n",
    "  control.Rule(velociade[\"muito_alta\"] & massa[\"pequena\"], pressao[\"media\"]),\n",
    "  control.Rule(velociade[\"muito_alta\"] & massa[\"media\"], pressao[\"media\"]),\n",
    "\n",
    "  control.Rule(velociade[\"media\"] & massa[\"grande\"], pressao[\"elevada\"]),\n",
    "  control.Rule(velociade[\"media\"] & massa[\"muito_grande\"], pressao[\"elevada\"]),\n",
    "  control.Rule(velociade[\"alta\"] & massa[\"grande\"], pressao[\"elevada\"]),\n",
    "  control.Rule(velociade[\"alta\"] & massa[\"muito_grande\"], pressao[\"elevada\"]),\n",
    "  control.Rule(velociade[\"muito_alta\"] & massa[\"grande\"], pressao[\"elevada\"]),\n",
    "  control.Rule(velociade[\"muito_alta\"] & massa[\"muito_grande\"], pressao[\"elevada\"])\n",
    "]\n",
    "\n",
    "pressao_controle = control.ControlSystem(regras)"
   ]
  },
  {
   "attachments": {},
   "cell_type": "markdown",
   "metadata": {},
   "source": [
    "### Simulação do sistema:"
   ]
  },
  {
   "cell_type": "code",
   "execution_count": null,
   "metadata": {},
   "outputs": [],
   "source": [
    "sistema = control.ControlSystemSimulation(pressao_controle)\n",
    "\n",
    "sistema.input[\"velocidade\"] = 155\n",
    "sistema.input[\"massa\"] = 1.5\n",
    "\n",
    "sistema.compute()\n",
    "\n",
    "print(f\"Resultado 'desfuzzificado': {sistema.output['pressao']}\")\n",
    "\n",
    "pressao.view(sim = sistema)"
   ]
  },
  {
   "attachments": {},
   "cell_type": "markdown",
   "metadata": {},
   "source": [
    "![6](imagens/6.png)"
   ]
  }
 ],
 "metadata": {
  "kernelspec": {
   "display_name": "Python 3",
   "language": "python",
   "name": "python3"
  },
  "language_info": {
   "codemirror_mode": {
    "name": "ipython",
    "version": 3
   },
   "file_extension": ".py",
   "mimetype": "text/x-python",
   "name": "python",
   "nbconvert_exporter": "python",
   "pygments_lexer": "ipython3",
   "version": "3.9.2"
  },
  "orig_nbformat": 4
 },
 "nbformat": 4,
 "nbformat_minor": 2
}
